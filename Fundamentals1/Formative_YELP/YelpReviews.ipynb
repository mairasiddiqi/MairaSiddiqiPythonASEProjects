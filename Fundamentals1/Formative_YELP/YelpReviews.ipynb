{
 "cells": [
  {
   "metadata": {},
   "cell_type": "markdown",
   "source": [
    "# YELP Reviews Data Analysis\n",
    "\n",
    "NOTE: Before you can use an xlsx file, you must first activate the openpyxl module with the following steps\n",
    ">> Settings >> Project >> Python Interpreter >> (+) button >> openpyxl\n",
    "\n",
    ">> Reference: I got all these datasets from Coursera U.Penn Data Analysis course. Questions are modified to your skill level."
   ],
   "id": "c3ae62d48c07755d"
  },
  {
   "metadata": {},
   "cell_type": "markdown",
   "source": [
    "\n",
    "## Loading Data\n",
    "\n",
    "The pandas module provides data analysis tools\n",
    "- It can connect to and interact with a database\n",
    "- It can also read and write Excel files\n",
    "- It provides a useful read_excel method which reads an Excel file into a DataFrame\n",
    "- A DataFrame is a 2-dimensional labeled data structure\n",
    "- You can think of it like a spreadsheet or database table"
   ],
   "id": "a88a6b9e177bcd32"
  },
  {
   "metadata": {
    "collapsed": true,
    "ExecuteTime": {
     "end_time": "2025-02-25T10:49:15.909035Z",
     "start_time": "2025-02-25T10:49:15.870955Z"
    }
   },
   "cell_type": "code",
   "source": [
    "import pandas as pd\n",
    "\n",
    "df = pd.read_excel('yelp.xlsx') # reads the file into a DataFrame\n",
    "\n",
    "print(df.head()) # prints the first 5 values"
   ],
   "id": "initial_id",
   "outputs": [
    {
     "name": "stdout",
     "output_type": "stream",
     "text": [
      "                           name   category_0       category_1  take_out  \\\n",
      "0  China Sea Chinese Restaurant  Restaurants          Chinese      True   \n",
      "1          Discount Tire Center        Tires       Automotive     False   \n",
      "2                  Frankfurters  Restaurants         Hot Dogs      True   \n",
      "3             Fred Dietz Floral     Shopping  Flowers & Gifts     False   \n",
      "4                 Kuhn's Market         Food          Grocery     False   \n",
      "\n",
      "   review_count  stars  city_id  state_id  \n",
      "0            11    2.5        1         1  \n",
      "1            24    4.5        1         1  \n",
      "2             3    4.5        1         1  \n",
      "3             6    4.0        1         1  \n",
      "4             8    3.5        1         1  \n"
     ]
    }
   ],
   "execution_count": 34
  },
  {
   "metadata": {},
   "cell_type": "markdown",
   "source": [
    "## Reading specific sheet- pandas Module\n",
    "\n",
    "- The pandas module also provides a useful ExcelFile class with a parse method that can read individual sheets in an Excel file \n",
    "- We’ll use this for loading our data\n",
    "- Confirm you’ve downloaded the ‘yelp.xlsx’ file"
   ],
   "id": "7f1075b4ab28513"
  },
  {
   "metadata": {
    "ExecuteTime": {
     "end_time": "2025-02-25T10:49:17.891374Z",
     "start_time": "2025-02-25T10:49:17.876230Z"
    }
   },
   "cell_type": "code",
   "source": [
    "import pandas as pd\n",
    "xls = pd.ExcelFile('yelp.xlsx')\n",
    "\n",
    "df = xls.parse('cities') # read a specific sheet into a DataFrame\n",
    "print(df.head())"
   ],
   "id": "cef7b96cf23b2ca1",
   "outputs": [
    {
     "name": "stdout",
     "output_type": "stream",
     "text": [
      "   id           city\n",
      "0   1       Bellevue\n",
      "1   2       Braddock\n",
      "2   3       Carnegie\n",
      "3   4      Homestead\n",
      "4   5  Mc Kees Rocks\n"
     ]
    }
   ],
   "execution_count": 35
  },
  {
   "metadata": {},
   "cell_type": "markdown",
   "source": [
    "## Information about local businesses in 13 cities in PA and NV\n",
    "Courtesy Yelp Dataset Challenge (https://www.yelp.com/dataset_challenge)\n",
    "\n",
    "### “yelp_data” tab data columns:\n",
    "- name: Name of business\n",
    "- category_0: 1st user-assigned business category\n",
    "- category_1: 2nd user-assigned business category\n",
    "- take-out: Flag (True/False) indicating if business provides take-out\n",
    "- review_count: Number of reviews\n",
    "- stars: Overall star rating\n",
    "- city_id: Identifier referencing city of business (match to id on “cities” tab)\n",
    "- state_id: Identifier referencing state of business (match to id on “states” tab)\n",
    "\n",
    "### “cities” tab data columns:\n",
    "- id: Unique identifier of city\n",
    "- city: City name\n",
    "\n",
    "### “states” tab data columns:\n",
    "- id: Unique identifier of state\n",
    "- state: State name"
   ],
   "id": "2d67bd7510263633"
  },
  {
   "metadata": {
    "ExecuteTime": {
     "end_time": "2025-02-25T10:49:19.919618Z",
     "start_time": "2025-02-25T10:49:19.880071Z"
    }
   },
   "cell_type": "code",
   "source": [
    "import pandas as pd\n",
    "xls = pd.ExcelFile('yelp.xlsx')\n",
    "df = xls.parse('yelp_data') #read the “yelp_data” sheet into a DataFrame\n",
    "\n",
    "# df is a DataFrame\n",
    "print(\"Printing the dataframe...\")\n",
    "print(type(df))\n",
    "\n",
    "# Get a count of rows\n",
    "print(len(df))\n",
    "\n",
    "# Get the size (rows, columns)\n",
    "print(df.shape)"
   ],
   "id": "1625ee5838284d08",
   "outputs": [
    {
     "name": "stdout",
     "output_type": "stream",
     "text": [
      "Printing the dataframe...\n",
      "<class 'pandas.core.frame.DataFrame'>\n",
      "600\n",
      "(600, 8)\n"
     ]
    }
   ],
   "execution_count": 36
  },
  {
   "metadata": {},
   "cell_type": "markdown",
   "source": "## Inspecting Data - Dataframe",
   "id": "6c923f35a13417da"
  },
  {
   "metadata": {
    "ExecuteTime": {
     "end_time": "2025-02-25T10:49:23.515314Z",
     "start_time": "2025-02-25T10:49:23.510264Z"
    }
   },
   "cell_type": "code",
   "source": [
    "# Get a count of values in each column\n",
    "print(\"Counting values in each column...\")\n",
    "print(df.count())\n",
    "\n",
    "# You can look at the column headers by accessing the columns attribute\n",
    "print(\"Column headers...\")\n",
    "print(df.columns)\n",
    "\n",
    "# And the type of data stored in each column by accessing the dtypes attribute\n",
    "print(\"Data type of values in each column...\")\n",
    "print(df.dtypes)"
   ],
   "id": "768857ba989e93b2",
   "outputs": [
    {
     "name": "stdout",
     "output_type": "stream",
     "text": [
      "Counting values in each column...\n",
      "name            600\n",
      "category_0      600\n",
      "category_1      600\n",
      "take_out        600\n",
      "review_count    600\n",
      "stars           600\n",
      "city_id         600\n",
      "state_id        600\n",
      "dtype: int64\n",
      "Column headers...\n",
      "Index(['name', 'category_0', 'category_1', 'take_out', 'review_count', 'stars',\n",
      "       'city_id', 'state_id'],\n",
      "      dtype='object')\n",
      "Data type of values in each column...\n",
      "name             object\n",
      "category_0       object\n",
      "category_1       object\n",
      "take_out           bool\n",
      "review_count      int64\n",
      "stars           float64\n",
      "city_id           int64\n",
      "state_id          int64\n",
      "dtype: object\n"
     ]
    }
   ],
   "execution_count": 37
  },
  {
   "metadata": {},
   "cell_type": "markdown",
   "source": "## Inspecting Data - DataFrame",
   "id": "9db1707a16a186ae"
  },
  {
   "metadata": {
    "ExecuteTime": {
     "end_time": "2025-02-25T10:49:26.801909Z",
     "start_time": "2025-02-25T10:49:26.788470Z"
    }
   },
   "cell_type": "code",
   "source": [
    "# Provides various summary statistics for the numerical values in DataFrame\n",
    "print(\"Describing the numerical values of the dataframe...\")\n",
    "print(df.describe())\n",
    "\n",
    "# Examine the first 20 rows\n",
    "print(\"Printing the first 20 rows of the dataframe...\")\n",
    "print(df.head(20))\n",
    "\n",
    "# Drop the duplicates (based on all columns) from df\n",
    "print(\"Dropping duplicates based on all columns of the dataframe...\")\n",
    "df = df.drop_duplicates()\n"
   ],
   "id": "594c3995ce288530",
   "outputs": [
    {
     "name": "stdout",
     "output_type": "stream",
     "text": [
      "Describing the numerical values of the dataframe...\n",
      "       review_count       stars     city_id    state_id\n",
      "count    600.000000  600.000000  600.000000  600.000000\n",
      "mean      33.771667    3.495000    9.193333    1.500000\n",
      "std       86.901895    0.955596    2.997933    0.500417\n",
      "min        3.000000    1.000000    1.000000    1.000000\n",
      "25%        5.000000    3.000000    8.000000    1.000000\n",
      "50%       10.000000    3.500000   10.500000    1.500000\n",
      "75%       25.250000    4.000000   12.000000    2.000000\n",
      "max     1305.000000    5.000000   13.000000    2.000000\n",
      "Printing the first 20 rows of the dataframe...\n",
      "                            name                    category_0  \\\n",
      "0   China Sea Chinese Restaurant                   Restaurants   \n",
      "1           Discount Tire Center                         Tires   \n",
      "2                   Frankfurters                   Restaurants   \n",
      "3              Fred Dietz Floral                      Shopping   \n",
      "4                  Kuhn's Market                          Food   \n",
      "5                 Lincoln Bakery                          Food   \n",
      "6               Luigi's Pizzeria                   Restaurants   \n",
      "7     Mane Attractions Unlimited                   Hair Salons   \n",
      "8            R & B's Pizza Place                   Restaurants   \n",
      "9                     Rusty Nail                   Restaurants   \n",
      "10                    Star Nails                 Beauty & Spas   \n",
      "11                          Vivo                   Restaurants   \n",
      "12                 Emil's Lounge                          Bars   \n",
      "13          Grand View Golf Club                   Active Life   \n",
      "14            Advance Auto Parts                    Automotive   \n",
      "15         Alexion's Bar & Grill                          Bars   \n",
      "16              Alteration World                Local Services   \n",
      "17                      Amerifit                   Active Life   \n",
      "18  Barb's Country Junction Cafe                   Restaurants   \n",
      "19         Carnegie Free Library  Public Services & Government   \n",
      "\n",
      "                category_1  take_out  review_count  stars  city_id  state_id  \n",
      "0                  Chinese      True            11    2.5        1         1  \n",
      "1               Automotive     False            24    4.5        1         1  \n",
      "2                 Hot Dogs      True             3    4.5        1         1  \n",
      "3          Flowers & Gifts     False             6    4.0        1         1  \n",
      "4                  Grocery     False             8    3.5        1         1  \n",
      "5                 Bakeries      True            25    4.0        1         1  \n",
      "6                    Pizza      True            18    4.0        1         1  \n",
      "7            Beauty & Spas     False             4    3.0        1         1  \n",
      "8                    Pizza      True            17    4.0        1         1  \n",
      "9   American (Traditional)      True            32    3.5        1         1  \n",
      "10             Nail Salons     False             7    2.5        1         1  \n",
      "11                 Italian     False             3    5.0        1         1  \n",
      "12          American (New)      True            26    4.5        2         1  \n",
      "13                    Golf     False             3    5.0        2         1  \n",
      "14   Auto Parts & Supplies     False             3    3.5        3         1  \n",
      "15  American (Traditional)      True            23    4.0        3         1  \n",
      "16    Sewing & Alterations     False            10    4.5        3         1  \n",
      "17                  Boxing     False             8    3.0        3         1  \n",
      "18                   Cafes      True             9    4.0        3         1  \n",
      "19               Libraries     False             4    4.5        3         1  \n",
      "Dropping duplicates based on all columns of the dataframe...\n"
     ]
    }
   ],
   "execution_count": 38
  },
  {
   "metadata": {},
   "cell_type": "markdown",
   "source": [
    "## Querying Data\n",
    "- Select just the business names using the “name” of the attribute in between square brackets []\n",
    "__df[”name\"] #returns name for every record__\n",
    "- Query the location for the first 100 businesses\n",
    "__atts = [\"name\", \"city_id\", \"state_id”]__ # store the list of attributes in a list\n",
    "__df[atts].head(100)__\n",
    "- This only shows the id for each city and state\n",
    "- How can we get the actual values?"
   ],
   "id": "b6e04d554aaebd91"
  },
  {
   "metadata": {
    "ExecuteTime": {
     "end_time": "2025-02-25T10:49:30.576466Z",
     "start_time": "2025-02-25T10:49:30.570180Z"
    }
   },
   "cell_type": "code",
   "source": [
    "# Select just the business names using the “name” of the attribute in between square brackets []\n",
    "print(\"Printing the name for every record in the dataframe...\")\n",
    "print(df[\"name\"]) # returns name for every record\n",
    "\n",
    "# Query the location for the first 100 businesses\n",
    "print(\"Querying the location for the first 100 businesses and displaying only the three columns...\")\n",
    "atts = [\"name\", \"city_id\", \"state_id\"] # store the list of attributes in a list\n",
    "print(df[atts].head(100)) # This only shows the id for each city and state. How can we get the actual values?"
   ],
   "id": "d72072449b2cad38",
   "outputs": [
    {
     "name": "stdout",
     "output_type": "stream",
     "text": [
      "Printing the name for every record in the dataframe...\n",
      "0                           China Sea Chinese Restaurant\n",
      "1                                   Discount Tire Center\n",
      "2                                           Frankfurters\n",
      "3                                      Fred Dietz Floral\n",
      "4                                          Kuhn's Market\n",
      "                             ...                        \n",
      "595    Republic Services of Southern Nevada Recycling...\n",
      "596                                         SA Recycling\n",
      "597                                      Jack In the Box\n",
      "598                                 Custom Hearth & Door\n",
      "599                                     A Sunrise Towing\n",
      "Name: name, Length: 600, dtype: object\n",
      "Querying the location for the first 100 businesses and displaying only the three columns...\n",
      "                                              name  city_id  state_id\n",
      "0                     China Sea Chinese Restaurant        1         1\n",
      "1                             Discount Tire Center        1         1\n",
      "2                                     Frankfurters        1         1\n",
      "3                                Fred Dietz Floral        1         1\n",
      "4                                    Kuhn's Market        1         1\n",
      "..                                             ...      ...       ...\n",
      "95                             Aamco Transmissions        8         1\n",
      "96  Animal Rescue League Shelter & Wildlife Center        8         1\n",
      "97                          Aracri's Greentree Inn        8         1\n",
      "98                           Atch-Mont Real Estate        8         1\n",
      "99                              Atria's Restaurant        8         1\n",
      "\n",
      "[100 rows x 3 columns]\n"
     ]
    }
   ],
   "execution_count": 39
  },
  {
   "metadata": {},
   "cell_type": "markdown",
   "source": [
    "## Joining Data\n",
    "- We need to look up the values in the “cities” sheet and “states” sheet\n",
    "    - Then combine them with the data in the “yelp_data” sheet\n",
    "- We do this by joining the datasets using a common field (identifier) in each\n",
    "    - Note: This process of joining tables is similar to what we do with tables in a relational database\n",
    "- The city_id in “yelp_data” will join to the id in “cities”\n",
    "- The state_id in “yelp_data” will join to the id in “states”"
   ],
   "id": "fefdb3ceea1cd7fe"
  },
  {
   "metadata": {},
   "cell_type": "markdown",
   "source": [
    "## Joining Data\n",
    ">> The most common type of join is called an inner join\n",
    "- Combines DataFrames based on a join key (common identifier)\n",
    "- Returns a new DataFrame that contains only those rows where the value being joined exists in BOTH tables\n",
    "\n",
    "<img src=\"joiiningdata.png\">\n"
   ],
   "id": "1953bc8a72fb9cdf"
  },
  {
   "metadata": {
    "ExecuteTime": {
     "end_time": "2025-02-25T10:49:33.283040Z",
     "start_time": "2025-02-25T10:49:33.273668Z"
    }
   },
   "cell_type": "code",
   "source": [
    "# Import the “cities” sheet into it’s own DataFrame using the parse method\n",
    "df_cities = xls.parse('cities')\n",
    "         \n",
    "'''\n",
    " The pandas function for performing joins is called merge\n",
    "• Specify the DataFrames to join in the “left” and “right” arguments\n",
    "• Specify inner (the default option) for the “how” argument\n",
    "• Specify the join keys in the “left_on” and “right_on” arguments\n",
    "'''                      \n",
    "df = pd.merge(left=df, right=df_cities, how='inner', left_on='city_id', right_on='id')\n",
    "\n",
    "#What’s the new size (rows, columns) of df?\n",
    "print(\"Printing the new size(rows, columns of the dataframe...)\")\n",
    "print(df.shape)\n",
    "\n",
    "# Now we can see the cities in df\n",
    "\n",
    "df.head()"
   ],
   "id": "d87f5923f8691374",
   "outputs": [
    {
     "name": "stdout",
     "output_type": "stream",
     "text": [
      "Printing the new size(rows, columns of the dataframe...)\n",
      "(600, 10)\n"
     ]
    },
    {
     "data": {
      "text/plain": [
       "                           name   category_0       category_1  take_out  \\\n",
       "0  China Sea Chinese Restaurant  Restaurants          Chinese      True   \n",
       "1          Discount Tire Center        Tires       Automotive     False   \n",
       "2                  Frankfurters  Restaurants         Hot Dogs      True   \n",
       "3             Fred Dietz Floral     Shopping  Flowers & Gifts     False   \n",
       "4                 Kuhn's Market         Food          Grocery     False   \n",
       "\n",
       "   review_count  stars  city_id  state_id  id      city  \n",
       "0            11    2.5        1         1   1  Bellevue  \n",
       "1            24    4.5        1         1   1  Bellevue  \n",
       "2             3    4.5        1         1   1  Bellevue  \n",
       "3             6    4.0        1         1   1  Bellevue  \n",
       "4             8    3.5        1         1   1  Bellevue  "
      ],
      "text/html": [
       "<div>\n",
       "<style scoped>\n",
       "    .dataframe tbody tr th:only-of-type {\n",
       "        vertical-align: middle;\n",
       "    }\n",
       "\n",
       "    .dataframe tbody tr th {\n",
       "        vertical-align: top;\n",
       "    }\n",
       "\n",
       "    .dataframe thead th {\n",
       "        text-align: right;\n",
       "    }\n",
       "</style>\n",
       "<table border=\"1\" class=\"dataframe\">\n",
       "  <thead>\n",
       "    <tr style=\"text-align: right;\">\n",
       "      <th></th>\n",
       "      <th>name</th>\n",
       "      <th>category_0</th>\n",
       "      <th>category_1</th>\n",
       "      <th>take_out</th>\n",
       "      <th>review_count</th>\n",
       "      <th>stars</th>\n",
       "      <th>city_id</th>\n",
       "      <th>state_id</th>\n",
       "      <th>id</th>\n",
       "      <th>city</th>\n",
       "    </tr>\n",
       "  </thead>\n",
       "  <tbody>\n",
       "    <tr>\n",
       "      <th>0</th>\n",
       "      <td>China Sea Chinese Restaurant</td>\n",
       "      <td>Restaurants</td>\n",
       "      <td>Chinese</td>\n",
       "      <td>True</td>\n",
       "      <td>11</td>\n",
       "      <td>2.5</td>\n",
       "      <td>1</td>\n",
       "      <td>1</td>\n",
       "      <td>1</td>\n",
       "      <td>Bellevue</td>\n",
       "    </tr>\n",
       "    <tr>\n",
       "      <th>1</th>\n",
       "      <td>Discount Tire Center</td>\n",
       "      <td>Tires</td>\n",
       "      <td>Automotive</td>\n",
       "      <td>False</td>\n",
       "      <td>24</td>\n",
       "      <td>4.5</td>\n",
       "      <td>1</td>\n",
       "      <td>1</td>\n",
       "      <td>1</td>\n",
       "      <td>Bellevue</td>\n",
       "    </tr>\n",
       "    <tr>\n",
       "      <th>2</th>\n",
       "      <td>Frankfurters</td>\n",
       "      <td>Restaurants</td>\n",
       "      <td>Hot Dogs</td>\n",
       "      <td>True</td>\n",
       "      <td>3</td>\n",
       "      <td>4.5</td>\n",
       "      <td>1</td>\n",
       "      <td>1</td>\n",
       "      <td>1</td>\n",
       "      <td>Bellevue</td>\n",
       "    </tr>\n",
       "    <tr>\n",
       "      <th>3</th>\n",
       "      <td>Fred Dietz Floral</td>\n",
       "      <td>Shopping</td>\n",
       "      <td>Flowers &amp; Gifts</td>\n",
       "      <td>False</td>\n",
       "      <td>6</td>\n",
       "      <td>4.0</td>\n",
       "      <td>1</td>\n",
       "      <td>1</td>\n",
       "      <td>1</td>\n",
       "      <td>Bellevue</td>\n",
       "    </tr>\n",
       "    <tr>\n",
       "      <th>4</th>\n",
       "      <td>Kuhn's Market</td>\n",
       "      <td>Food</td>\n",
       "      <td>Grocery</td>\n",
       "      <td>False</td>\n",
       "      <td>8</td>\n",
       "      <td>3.5</td>\n",
       "      <td>1</td>\n",
       "      <td>1</td>\n",
       "      <td>1</td>\n",
       "      <td>Bellevue</td>\n",
       "    </tr>\n",
       "  </tbody>\n",
       "</table>\n",
       "</div>"
      ]
     },
     "execution_count": 40,
     "metadata": {},
     "output_type": "execute_result"
    }
   ],
   "execution_count": 40
  },
  {
   "metadata": {},
   "cell_type": "markdown",
   "source": [
    "## YOU DO: Formative #2 - Joining Data\n",
    "> A. Import the “states” sheet into it’s own DataFrame\n",
    "1. Join (merge) with df\n",
    "2. Calculate the new size (rows, columns) of df\n",
    "3. Show the name, city, and state for the first 100 businesses\n",
    "\n",
    "\n",
    "> B. Import the “states” sheet into it’s own DataFrame\n",
    "1. Join (merge) with df\n",
    "2. Calculate the new size (rows, columns) of df\n",
    "3. Show the name, city, and state for the first 100 businesses"
   ],
   "id": "3787cbcd079ec672"
  },
  {
   "metadata": {},
   "cell_type": "markdown",
   "source": "",
   "id": "dfcd1f4ac57df32c"
  },
  {
   "metadata": {
    "ExecuteTime": {
     "end_time": "2025-02-25T10:49:42.974376Z",
     "start_time": "2025-02-25T10:49:42.963812Z"
    }
   },
   "cell_type": "code",
   "source": [
    "df_cities = xls.parse('cities')\n",
    "\n",
    "df = pd.merge(left=df, right=df_cities, how='inner', left_on='city_id', right_on='id')\n",
    "print(\"Printing the new size(rows, columns of the dataframe...)\")\n",
    "print(df.shape)\n",
    "df.head(100)"
   ],
   "id": "2af1f34016df9778",
   "outputs": [
    {
     "name": "stdout",
     "output_type": "stream",
     "text": [
      "Printing the new size(rows, columns of the dataframe...)\n",
      "(600, 14)\n"
     ]
    },
    {
     "data": {
      "text/plain": [
       "                                              name            category_0  \\\n",
       "0                     China Sea Chinese Restaurant           Restaurants   \n",
       "1                             Discount Tire Center                 Tires   \n",
       "2                                     Frankfurters           Restaurants   \n",
       "3                                Fred Dietz Floral              Shopping   \n",
       "4                                    Kuhn's Market                  Food   \n",
       "..                                             ...                   ...   \n",
       "95                             Aamco Transmissions           Auto Repair   \n",
       "96  Animal Rescue League Shelter & Wildlife Center       Animal Shelters   \n",
       "97                          Aracri's Greentree Inn               Italian   \n",
       "98                           Atch-Mont Real Estate  Real Estate Services   \n",
       "99                              Atria's Restaurant        American (New)   \n",
       "\n",
       "             category_1  take_out  review_count  stars  city_id  state_id  \\\n",
       "0               Chinese      True            11    2.5        1         1   \n",
       "1            Automotive     False            24    4.5        1         1   \n",
       "2              Hot Dogs      True             3    4.5        1         1   \n",
       "3       Flowers & Gifts     False             6    4.0        1         1   \n",
       "4               Grocery     False             8    3.5        1         1   \n",
       "..                  ...       ...           ...    ...      ...       ...   \n",
       "95           Automotive     False            21    4.5        8         1   \n",
       "96        Veterinarians     False            43    4.0        8         1   \n",
       "97       American (New)      True            15    3.5        8         1   \n",
       "98  Property Management     False             3    2.0        8         1   \n",
       "99           Sandwiches      True            69    3.0        8         1   \n",
       "\n",
       "    id_x      city_x  id_y      city_y  id        city  \n",
       "0      1    Bellevue     1    Bellevue   1    Bellevue  \n",
       "1      1    Bellevue     1    Bellevue   1    Bellevue  \n",
       "2      1    Bellevue     1    Bellevue   1    Bellevue  \n",
       "3      1    Bellevue     1    Bellevue   1    Bellevue  \n",
       "4      1    Bellevue     1    Bellevue   1    Bellevue  \n",
       "..   ...         ...   ...         ...  ..         ...  \n",
       "95     8  Pittsburgh     8  Pittsburgh   8  Pittsburgh  \n",
       "96     8  Pittsburgh     8  Pittsburgh   8  Pittsburgh  \n",
       "97     8  Pittsburgh     8  Pittsburgh   8  Pittsburgh  \n",
       "98     8  Pittsburgh     8  Pittsburgh   8  Pittsburgh  \n",
       "99     8  Pittsburgh     8  Pittsburgh   8  Pittsburgh  \n",
       "\n",
       "[100 rows x 14 columns]"
      ],
      "text/html": [
       "<div>\n",
       "<style scoped>\n",
       "    .dataframe tbody tr th:only-of-type {\n",
       "        vertical-align: middle;\n",
       "    }\n",
       "\n",
       "    .dataframe tbody tr th {\n",
       "        vertical-align: top;\n",
       "    }\n",
       "\n",
       "    .dataframe thead th {\n",
       "        text-align: right;\n",
       "    }\n",
       "</style>\n",
       "<table border=\"1\" class=\"dataframe\">\n",
       "  <thead>\n",
       "    <tr style=\"text-align: right;\">\n",
       "      <th></th>\n",
       "      <th>name</th>\n",
       "      <th>category_0</th>\n",
       "      <th>category_1</th>\n",
       "      <th>take_out</th>\n",
       "      <th>review_count</th>\n",
       "      <th>stars</th>\n",
       "      <th>city_id</th>\n",
       "      <th>state_id</th>\n",
       "      <th>id_x</th>\n",
       "      <th>city_x</th>\n",
       "      <th>id_y</th>\n",
       "      <th>city_y</th>\n",
       "      <th>id</th>\n",
       "      <th>city</th>\n",
       "    </tr>\n",
       "  </thead>\n",
       "  <tbody>\n",
       "    <tr>\n",
       "      <th>0</th>\n",
       "      <td>China Sea Chinese Restaurant</td>\n",
       "      <td>Restaurants</td>\n",
       "      <td>Chinese</td>\n",
       "      <td>True</td>\n",
       "      <td>11</td>\n",
       "      <td>2.5</td>\n",
       "      <td>1</td>\n",
       "      <td>1</td>\n",
       "      <td>1</td>\n",
       "      <td>Bellevue</td>\n",
       "      <td>1</td>\n",
       "      <td>Bellevue</td>\n",
       "      <td>1</td>\n",
       "      <td>Bellevue</td>\n",
       "    </tr>\n",
       "    <tr>\n",
       "      <th>1</th>\n",
       "      <td>Discount Tire Center</td>\n",
       "      <td>Tires</td>\n",
       "      <td>Automotive</td>\n",
       "      <td>False</td>\n",
       "      <td>24</td>\n",
       "      <td>4.5</td>\n",
       "      <td>1</td>\n",
       "      <td>1</td>\n",
       "      <td>1</td>\n",
       "      <td>Bellevue</td>\n",
       "      <td>1</td>\n",
       "      <td>Bellevue</td>\n",
       "      <td>1</td>\n",
       "      <td>Bellevue</td>\n",
       "    </tr>\n",
       "    <tr>\n",
       "      <th>2</th>\n",
       "      <td>Frankfurters</td>\n",
       "      <td>Restaurants</td>\n",
       "      <td>Hot Dogs</td>\n",
       "      <td>True</td>\n",
       "      <td>3</td>\n",
       "      <td>4.5</td>\n",
       "      <td>1</td>\n",
       "      <td>1</td>\n",
       "      <td>1</td>\n",
       "      <td>Bellevue</td>\n",
       "      <td>1</td>\n",
       "      <td>Bellevue</td>\n",
       "      <td>1</td>\n",
       "      <td>Bellevue</td>\n",
       "    </tr>\n",
       "    <tr>\n",
       "      <th>3</th>\n",
       "      <td>Fred Dietz Floral</td>\n",
       "      <td>Shopping</td>\n",
       "      <td>Flowers &amp; Gifts</td>\n",
       "      <td>False</td>\n",
       "      <td>6</td>\n",
       "      <td>4.0</td>\n",
       "      <td>1</td>\n",
       "      <td>1</td>\n",
       "      <td>1</td>\n",
       "      <td>Bellevue</td>\n",
       "      <td>1</td>\n",
       "      <td>Bellevue</td>\n",
       "      <td>1</td>\n",
       "      <td>Bellevue</td>\n",
       "    </tr>\n",
       "    <tr>\n",
       "      <th>4</th>\n",
       "      <td>Kuhn's Market</td>\n",
       "      <td>Food</td>\n",
       "      <td>Grocery</td>\n",
       "      <td>False</td>\n",
       "      <td>8</td>\n",
       "      <td>3.5</td>\n",
       "      <td>1</td>\n",
       "      <td>1</td>\n",
       "      <td>1</td>\n",
       "      <td>Bellevue</td>\n",
       "      <td>1</td>\n",
       "      <td>Bellevue</td>\n",
       "      <td>1</td>\n",
       "      <td>Bellevue</td>\n",
       "    </tr>\n",
       "    <tr>\n",
       "      <th>...</th>\n",
       "      <td>...</td>\n",
       "      <td>...</td>\n",
       "      <td>...</td>\n",
       "      <td>...</td>\n",
       "      <td>...</td>\n",
       "      <td>...</td>\n",
       "      <td>...</td>\n",
       "      <td>...</td>\n",
       "      <td>...</td>\n",
       "      <td>...</td>\n",
       "      <td>...</td>\n",
       "      <td>...</td>\n",
       "      <td>...</td>\n",
       "      <td>...</td>\n",
       "    </tr>\n",
       "    <tr>\n",
       "      <th>95</th>\n",
       "      <td>Aamco Transmissions</td>\n",
       "      <td>Auto Repair</td>\n",
       "      <td>Automotive</td>\n",
       "      <td>False</td>\n",
       "      <td>21</td>\n",
       "      <td>4.5</td>\n",
       "      <td>8</td>\n",
       "      <td>1</td>\n",
       "      <td>8</td>\n",
       "      <td>Pittsburgh</td>\n",
       "      <td>8</td>\n",
       "      <td>Pittsburgh</td>\n",
       "      <td>8</td>\n",
       "      <td>Pittsburgh</td>\n",
       "    </tr>\n",
       "    <tr>\n",
       "      <th>96</th>\n",
       "      <td>Animal Rescue League Shelter &amp; Wildlife Center</td>\n",
       "      <td>Animal Shelters</td>\n",
       "      <td>Veterinarians</td>\n",
       "      <td>False</td>\n",
       "      <td>43</td>\n",
       "      <td>4.0</td>\n",
       "      <td>8</td>\n",
       "      <td>1</td>\n",
       "      <td>8</td>\n",
       "      <td>Pittsburgh</td>\n",
       "      <td>8</td>\n",
       "      <td>Pittsburgh</td>\n",
       "      <td>8</td>\n",
       "      <td>Pittsburgh</td>\n",
       "    </tr>\n",
       "    <tr>\n",
       "      <th>97</th>\n",
       "      <td>Aracri's Greentree Inn</td>\n",
       "      <td>Italian</td>\n",
       "      <td>American (New)</td>\n",
       "      <td>True</td>\n",
       "      <td>15</td>\n",
       "      <td>3.5</td>\n",
       "      <td>8</td>\n",
       "      <td>1</td>\n",
       "      <td>8</td>\n",
       "      <td>Pittsburgh</td>\n",
       "      <td>8</td>\n",
       "      <td>Pittsburgh</td>\n",
       "      <td>8</td>\n",
       "      <td>Pittsburgh</td>\n",
       "    </tr>\n",
       "    <tr>\n",
       "      <th>98</th>\n",
       "      <td>Atch-Mont Real Estate</td>\n",
       "      <td>Real Estate Services</td>\n",
       "      <td>Property Management</td>\n",
       "      <td>False</td>\n",
       "      <td>3</td>\n",
       "      <td>2.0</td>\n",
       "      <td>8</td>\n",
       "      <td>1</td>\n",
       "      <td>8</td>\n",
       "      <td>Pittsburgh</td>\n",
       "      <td>8</td>\n",
       "      <td>Pittsburgh</td>\n",
       "      <td>8</td>\n",
       "      <td>Pittsburgh</td>\n",
       "    </tr>\n",
       "    <tr>\n",
       "      <th>99</th>\n",
       "      <td>Atria's Restaurant</td>\n",
       "      <td>American (New)</td>\n",
       "      <td>Sandwiches</td>\n",
       "      <td>True</td>\n",
       "      <td>69</td>\n",
       "      <td>3.0</td>\n",
       "      <td>8</td>\n",
       "      <td>1</td>\n",
       "      <td>8</td>\n",
       "      <td>Pittsburgh</td>\n",
       "      <td>8</td>\n",
       "      <td>Pittsburgh</td>\n",
       "      <td>8</td>\n",
       "      <td>Pittsburgh</td>\n",
       "    </tr>\n",
       "  </tbody>\n",
       "</table>\n",
       "<p>100 rows × 14 columns</p>\n",
       "</div>"
      ]
     },
     "execution_count": 42,
     "metadata": {},
     "output_type": "execute_result"
    }
   ],
   "execution_count": 42
  },
  {
   "metadata": {},
   "cell_type": "markdown",
   "source": [
    "### Learning Reflection\n",
    "> Write about what you have realized from the topics covered in this notebook.\n",
    "- What did you find useful? What wasn’t helpful?\n",
    "- What concepts were challenging?\n",
    "- What topics were easy to understand?\n",
    "- Keep your response clear and concise, with a maximum of 100 words.\n",
    "- Write your answer inside the pair of three single quotes"
   ],
   "id": "789518448c126ec4"
  },
  {
   "metadata": {
    "ExecuteTime": {
     "end_time": "2025-02-25T10:49:04.009626Z",
     "start_time": "2025-02-25T10:49:04.006683Z"
    }
   },
   "cell_type": "code",
   "source": [
    "'''\n",
    "- I found the everything that was coded for me to learn from in the noteboook becuase I was able to use what I saw to figure out how to write my code.\n",
    "- One of the concepts that I found challenging was nothing\n",
    "- Merging\n",
    "'''"
   ],
   "id": "8af943594a22d0ab",
   "outputs": [
    {
     "data": {
      "text/plain": [
       "'\\n\\n- I found the everything that was coded for me to learn from in the noteboook becuase I was able to use what I saw to figure out how to write my code. I also learnt a lot of new things\\n- One of the concepts that i found challenging\\n\\n\\n\\n\\n\\n'"
      ]
     },
     "execution_count": 33,
     "metadata": {},
     "output_type": "execute_result"
    }
   ],
   "execution_count": 33
  }
 ],
 "metadata": {
  "kernelspec": {
   "display_name": "Python 3",
   "language": "python",
   "name": "python3"
  },
  "language_info": {
   "codemirror_mode": {
    "name": "ipython",
    "version": 2
   },
   "file_extension": ".py",
   "mimetype": "text/x-python",
   "name": "python",
   "nbconvert_exporter": "python",
   "pygments_lexer": "ipython2",
   "version": "2.7.6"
  }
 },
 "nbformat": 4,
 "nbformat_minor": 5
}
